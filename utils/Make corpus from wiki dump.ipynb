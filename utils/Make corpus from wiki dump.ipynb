{
 "cells": [
  {
   "cell_type": "code",
   "execution_count": 2,
   "metadata": {},
   "outputs": [],
   "source": [
    "from lxml import etree\n",
    "from lxml.etree import tostring\n",
    "from itertools import chain"
   ]
  },
  {
   "cell_type": "code",
   "execution_count": 3,
   "metadata": {},
   "outputs": [],
   "source": [
    "xml = etree.parse('C:\\simplewiki-latest-pages-articles.xml')\n",
    "root = xml.getroot()"
   ]
  },
  {
   "cell_type": "code",
   "execution_count": 5,
   "metadata": {},
   "outputs": [],
   "source": [
    "def stringify_children(node):\n",
    "    parts = ([node.text] + list(chain(*([c.text, tostring(c), c.tail] for c in node.getchildren()))) + [node.tail])\n",
    "    return ''.join(filter(None, parts))\n",
    "\n",
    "for page in root.findall(\"{http://www.mediawiki.org/xml/export-0.10/}page\"):\n",
    "    title = page.find(\"{http://www.mediawiki.org/xml/export-0.10/}title\")\n",
    "    text = page.find(\"{http://www.mediawiki.org/xml/export-0.10/}revision/{http://www.mediawiki.org/xml/export-0.10/}text\")\n",
    "    u_title = stringify_children(title).strip().replace(u':', '_').replace(u'/', '_').replace(u'*', '_').replace(u'\\\"', '').replace(u'?', '_').replace(u'\\\\', '_')\n",
    "    \n",
    "    if len(u_title) > 30:\n",
    "        u_title = u_title[:30]\n",
    "    \n",
    "    with open(\"C:/Users/illus_000/Documents/GitHub/korchevatel-babushkina/corpus/simplewiki/\" + u_title + \".txt\", 'wb') as f:\n",
    "        u_text = stringify_children(text).encode('utf-8')\n",
    "        f.write(u_text)"
   ]
  }
 ],
 "metadata": {
  "kernelspec": {
   "display_name": "Python 2",
   "language": "python",
   "name": "python2"
  },
  "language_info": {
   "codemirror_mode": {
    "name": "ipython",
    "version": 2.0
   },
   "file_extension": ".py",
   "mimetype": "text/x-python",
   "name": "python",
   "nbconvert_exporter": "python",
   "pygments_lexer": "ipython2",
   "version": "2.7.10"
  }
 },
 "nbformat": 4,
 "nbformat_minor": 0
}